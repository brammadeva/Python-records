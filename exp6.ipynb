{
 "cells": [
  {
   "cell_type": "markdown",
   "id": "84c56925",
   "metadata": {},
   "source": [
    "Write a program to create a list and perform the following operations: append, insert, delete, and update an element"
   ]
  },
  {
   "cell_type": "code",
   "execution_count": null,
   "id": "17c838ef",
   "metadata": {},
   "outputs": [],
   "source": [
    "def display_menu(): \n",
    "    print(\"\\n List of Operations\") \n",
    "    print(\"1. Append an element\") \n",
    "    print(\"2. Insert an element\") \n",
    "    print(\"3. Update an element\") \n",
    "    print(\"4. Delete an element\") \n",
    "    print(\"5. Clear the list\") \n",
    "    print(\"6. Exit\") \n",
    " \n",
    "n = int(input(\"Enter number of elements: \")) \n",
    "lst = [int(input(f\"Enter Element {i + 1}: \")) for i in range(n)] \n",
    "print(f\"\\nOriginal List: {lst}\") \n",
    " \n",
    "while True: \n",
    "    display_menu() \n",
    "    choice = int(input(\"\\nEnter your choice: \")) \n",
    " \n",
    "    if choice == 1: \n",
    "        element = int(input(\"Enter element to append: \")) \n",
    "        lst.append(element) \n",
    "        print(f\"Updated List: {lst}\") \n",
    "    elif choice == 2: \n",
    "        index = int(input(\"Enter index position: \")) \n",
    "        element = int(input(\"Enter element to insert: \")) \n",
    "        if 0 <= index <= len(lst):   \n",
    "            lst.insert(index, element) \n",
    "            print(f\"Updated List: {lst}\") \n",
    "        else: \n",
    "            print(\"Invalid index!\") \n",
    "    elif choice == 3: \n",
    "        index = int(input(\"Enter index to update: \")) \n",
    "        if 0 <= index < len(lst): \n",
    "            element = int(input(\"Enter new value: \")) \n",
    "            lst[index] = element \n",
    "            print(f\"Updated List: {lst}\") \n",
    "        else: \n",
    "            print(\"Invalid index!\") \n",
    "    elif choice == 4: \n",
    "        index = int(input(\"Enter index to delete: \")) \n",
    "        if 0 <= index < len(lst): \n",
    "            lst.pop(index) \n",
    "            print(f\"Updated List: {lst}\") \n",
    "        else: \n",
    "            print(\"Invalid index!\") \n",
    "    elif choice == 5: \n",
    "        lst.clear() \n",
    "        print(\"List has been cleared!\") \n",
    "    elif choice == 6: \n",
    "        print(\"Exiting program.\") \n",
    "        break \n",
    "    else: \n",
    "        print(\"Invalid choice! Please choose a valid option.\")"
   ]
  },
  {
   "cell_type": "markdown",
   "id": "b1c954f9",
   "metadata": {},
   "source": [
    "Write a program to create a list of integers and print the largest, smallest, and average of the list elements.\n"
   ]
  },
  {
   "cell_type": "code",
   "execution_count": null,
   "id": "ae2b867b",
   "metadata": {},
   "outputs": [],
   "source": [
    "n = int(input(\"Enter number of Elements : \"))\n",
    "_list = [int(input(f\"Enter element {i+1} : \")) for i in range(n)]\n",
    "largest = max(_list)\n",
    "smallest = min(_list)\n",
    "print(f\"Largest Element : {largest}\")\n",
    "print(f\"Smallest Element : {smallest}\")\n",
    "print(f\"Average of the list : {sum(_list)/n:.2f}\")\n"
   ]
  },
  {
   "cell_type": "markdown",
   "id": "74c5ae22",
   "metadata": {},
   "source": [
    "Write a program to generate a list of squares of the first 10 natural numbers using list comprehension."
   ]
  },
  {
   "cell_type": "code",
   "execution_count": 22,
   "id": "f62f6b93",
   "metadata": {},
   "outputs": [
    {
     "name": "stdout",
     "output_type": "stream",
     "text": [
      "Square of 10 Natural Numbers : [1, 4, 9, 16, 25, 36, 49, 64, 81, 100]\n"
     ]
    }
   ],
   "source": [
    "l = [i**2 for i in range(1,11)]\n",
    "print(f\"Square of 10 Natural Numbers : {l}\")"
   ]
  },
  {
   "cell_type": "markdown",
   "id": "8c0a18f0",
   "metadata": {},
   "source": [
    "Write a program to create a list of student names and sort them in ascending and descending order."
   ]
  },
  {
   "cell_type": "code",
   "execution_count": 2,
   "id": "c697f4e8",
   "metadata": {},
   "outputs": [
    {
     "name": "stdout",
     "output_type": "stream",
     "text": [
      "List in Ascending Order : ['Abdul', 'Arun', 'Bramma Deva', 'Dharun']\n",
      "List in Descending Order : ['Dharun', 'Bramma Deva', 'Arun', 'Abdul']\n"
     ]
    }
   ],
   "source": [
    "a = [\"Arun\",\"Abdul\",\"Dharun\",\"Bramma Deva\"]\n",
    "print(f\"List in Ascending Order : {sorted(a)}\")\n",
    "print(f\"List in Descending Order : {sorted(a,reverse = True)}\")"
   ]
  },
  {
   "cell_type": "markdown",
   "id": "7f638708",
   "metadata": {},
   "source": [
    "Write a program to perform linear search and binary search on a list of numbers"
   ]
  },
  {
   "cell_type": "code",
   "execution_count": null,
   "id": "3245784e",
   "metadata": {},
   "outputs": [],
   "source": [
    "def linear_search(arr, target): \n",
    "    for i in range(len(arr)): \n",
    "        if arr[i] == target: \n",
    "            return f\"Element found at index {i}\" \n",
    "    return \"Element not found\" \n",
    " \n",
    "def binary_search(arr, target): \n",
    "    left, right = 0, len(arr) - 1 \n",
    "    l = sorted(arr) \n",
    "    while left <= right: \n",
    "        mid = (left + right) // 2 \n",
    "        if l[mid] == target: \n",
    "            return f\"Element found at index {mid}\" \n",
    "        elif l[mid] < target: \n",
    "            left = mid + 1 \n",
    "        else: \n",
    "            right = mid - 1 \n",
    "    return \"Element not found\" \n",
    " \n",
    "numbers = [int(x) for x in input(\"Enter numbers separated by spaces: \").split()] \n",
    "print(f\"List : {numbers}\") \n",
    "print(f\"Sorted List : {sorted(numbers)}\") \n",
    "target = int(input(\"Enter the target number: \")) \n",
    "print(linear_search(numbers, target)) \n",
    "print(binary_search(numbers, target))"
   ]
  },
  {
   "cell_type": "markdown",
   "id": "19d1cd12",
   "metadata": {},
   "source": [
    "Given a list of numbers, create a new list containing the squares of only the odd numbers from the original list. (Use List comprehension)"
   ]
  },
  {
   "cell_type": "code",
   "execution_count": null,
   "id": "51e375f6",
   "metadata": {},
   "outputs": [],
   "source": [
    "n = int(input(\"Enter number of Elements : \")) \n",
    "lst = [int(input(f\"Enter Element {i+1} : \")) for i in range(n)] \n",
    "print(f\"Original List : {lst}\") \n",
    "odd_list = [i**2 for i in lst if i % 2 != 0] \n",
    "print(f\"Squaring of Odd Numbers : {odd_list}\")"
   ]
  },
  {
   "cell_type": "markdown",
   "id": "839925e3",
   "metadata": {},
   "source": [
    "Write a program to swap two values using tuple unpacking"
   ]
  },
  {
   "cell_type": "code",
   "execution_count": null,
   "id": "6e39bab4",
   "metadata": {},
   "outputs": [],
   "source": [
    "a = int(input(\"Enter first value: \")) \n",
    "b = int(input(\"Enter second value: \")) \n",
    "a, b = b, a \n",
    "print(f\"After swapping:\\n a = {a}\\n b = {b}\\n\")"
   ]
  },
  {
   "cell_type": "markdown",
   "id": "44d23d16",
   "metadata": {},
   "source": [
    " \n",
    "Write a program to create a list of tuples containing student names and their marks, and print \n",
    "the names of students who scored more than 90."
   ]
  },
  {
   "cell_type": "code",
   "execution_count": null,
   "id": "d834fe61",
   "metadata": {},
   "outputs": [],
   "source": [
    "lst = [] \n",
    "while True : \n",
    "    lst2 = [] \n",
    "    student_name = input(\"Enter Student Name or exit to quit : \") \n",
    "    if student_name.lower() == \"exit\": \n",
    "        break \n",
    "    student_mark = int(input(\"Enter Student Mark : \")) \n",
    "    lst2.append(student_name) \n",
    "    lst2.append(student_mark) \n",
    "    lst.append(tuple(lst2)) \n",
    "print(f\"Original List : {lst}\") \n",
    "print(\"....Students who Scored more than 90.....\") \n",
    "for i in lst: \n",
    "    if i[1] > 90: \n",
    "        print(f\" Student Name : {i[0]}\")"
   ]
  },
  {
   "cell_type": "markdown",
   "id": "6f9a6f07",
   "metadata": {},
   "source": [
    "A sensor returns a list of readings. Negative readings are invalid and should be replaced by zero and Use list comprehension to replace all negative numbers in a list with 0."
   ]
  },
  {
   "cell_type": "code",
   "execution_count": null,
   "id": "c0fe89c8",
   "metadata": {},
   "outputs": [],
   "source": [
    "a = [-1,3,4,-5,-7,9]\n",
    "lst = [0 if num < 0 else num for num in a]\n",
    "print(f\"List after replacing negative numbers with zero : {lst}\")"
   ]
  },
  {
   "cell_type": "markdown",
   "id": "18d5fba3",
   "metadata": {},
   "source": [
    " \n",
    "Create a system to process customer orders. Each order can contain multiple items \n",
    "(represented as strings). The system should allow adding items to an order, removing items, \n",
    "displaying the current order, and calculating the total number of items in the order. You could \n",
    "extend this by associating quantities with each item (e.g., a list of tuples: [(\"Laptop\", 1), \n",
    "(\"Mouse\", 2)])."
   ]
  },
  {
   "cell_type": "code",
   "execution_count": null,
   "id": "f9f42577",
   "metadata": {},
   "outputs": [],
   "source": [
    "order = []   \n",
    " \n",
    "def add_item(item, quantity): \n",
    "    order.append((item, quantity)) \n",
    "    print(f\"Added {quantity} {item}\") \n",
    " \n",
    "def remove_item(item): \n",
    "    for i in range(len(order)): \n",
    "        if order[i][0] == item: \n",
    "            del order[i] \n",
    "            print(f\"Removed {item}\") \n",
    "            return \n",
    "    print(f\"{item} not found!\") \n",
    " \n",
    "def display_order(): \n",
    "    print(\"\\nCurrent Order:\", order if order else \"Empty\") \n",
    " \n",
    "def total_items(): \n",
    "    total = sum(q for i, q in order) \n",
    "    print(f\"\\nTotal items: {total}\") \n",
    " \n",
    " \n",
    "add_item(\"Earphones\", 5) \n",
    "add_item(\"Neckband\", 2) \n",
    "add_item(\"Earpods\",3) \n",
    "display_order() \n",
    "total_items() \n",
    " \n",
    "remove_item(\"Earpods\") \n",
    "display_order()"
   ]
  },
  {
   "cell_type": "markdown",
   "id": "d092189a",
   "metadata": {},
   "source": [
    "Given a list of numbers and a target sum, find all unique pairs of numbers in the list that add \n",
    "up to the target sum. "
   ]
  },
  {
   "cell_type": "code",
   "execution_count": null,
   "id": "91637075",
   "metadata": {},
   "outputs": [],
   "source": [
    " \n",
    "def find_pairs(lst, target): \n",
    "    seen = set() \n",
    "    result = set() \n",
    "    for i in lst: \n",
    "        complement = target - i \n",
    "        if complement in seen: \n",
    "            pair = tuple(sorted((i, complement))) \n",
    "            result.add(pair) \n",
    "        seen.add(i) \n",
    "    return f\"Target Sum : {list(result)}\" \n",
    "print(find_pairs([2,3,4,5,6,-1],8)) "
   ]
  },
  {
   "cell_type": "markdown",
   "id": "66e1f983",
   "metadata": {},
   "source": [
    " \n",
    "Implement a function that performs Run-Length Encoding on a list of characters. RLE \n",
    "compresses data by replacing consecutive identical characters with the character and its \n",
    "count. For example, [\"a\", \"a\", \"a\", \"b\", \"b\", \"c\"] would be encoded as [(\"a\", 3), (\"b\", 2), (\"c\", \n",
    "1)].  \n"
   ]
  },
  {
   "cell_type": "code",
   "execution_count": null,
   "id": "1aca382d",
   "metadata": {},
   "outputs": [],
   "source": [
    "def run_length_encode(chars): \n",
    "    if not chars: \n",
    "        return [] \n",
    "    encoded = [] \n",
    "    current_char = chars[0] \n",
    "    count = 1 \n",
    "    for i in range(1, len(chars)): \n",
    "        if chars[i] == current_char: \n",
    "            count += 1 \n",
    "        else: \n",
    "            encoded.append((current_char, count)) \n",
    "            current_char = chars[i] \n",
    "            count = 1 \n",
    "    encoded.append((current_char, count)) \n",
    "    return encoded \n",
    "chars = [\"a\", \"a\", \"a\", \"b\", \"b\", \"c\"] \n",
    "encoded = run_length_encode(chars) \n",
    "print(encoded)   "
   ]
  },
  {
   "cell_type": "markdown",
   "id": "69234851",
   "metadata": {},
   "source": [
    "Scenario: \n",
    "Given a matrix and need to transpose it and  Use nested list comprehension to transpose a \n",
    "matrix. \n",
    "Input: \n",
    "matrix = [ \n",
    " [1, 2, 3], \n",
    " [4, 5, 6]  \n",
    "] \n",
    "Output: \n",
    "[ \n",
    "[1, 4], \n",
    "[2, 5], \n",
    "[3, 6] \n",
    "]"
   ]
  },
  {
   "cell_type": "code",
   "execution_count": null,
   "id": "dc442090",
   "metadata": {},
   "outputs": [],
   "source": [
    "matrix = [[1, 2, 3], [4, 5, 6]] \n",
    "transposed = [[matrix[i][j] for i in range(len(matrix))] for j in range(len(matrix[0]))] \n",
    "print(\"Transposed Matrix:\", transposed)"
   ]
  },
  {
   "cell_type": "markdown",
   "id": "c44b7bcd",
   "metadata": {},
   "source": [
    " \n",
    "Given a list of strings, extract digits from each string and store them in a new list. \n",
    "   Input: [\"abc123\", \"hello99\"] → Output: [\"123\", \"99\"]"
   ]
  },
  {
   "cell_type": "code",
   "execution_count": null,
   "id": "56066ca2",
   "metadata": {},
   "outputs": [],
   "source": [
    "n = int(input(\"Enter number of Elements : \")) \n",
    "lst = [input(f\"Enter element {i+1} : \") for i in range(n)] \n",
    "print(f\"original List : {lst}\") \n",
    "num = [] \n",
    "for i in lst: \n",
    "    snum=\"\" \n",
    "    for j in i: \n",
    "        if j.isdigit(): \n",
    "             snum+=j \n",
    "    num.append(snum) \n",
    "     \n",
    "print(f\"list after extracting Digits : {num}\")"
   ]
  },
  {
   "cell_type": "code",
   "execution_count": 1,
   "id": "cf86c280",
   "metadata": {},
   "outputs": [
    {
     "name": "stdout",
     "output_type": "stream",
     "text": [
      "Added 5 Earpods\n",
      "None\n"
     ]
    }
   ],
   "source": [
    "order = []\n",
    "def add_item(item, quantity):\n",
    "   order.append((item, quantity))\n",
    "   print(f\"Added {quantity} {item}\")\n",
    "print(add_item(\"Earpods\",5))"
   ]
  }
 ],
 "metadata": {
  "kernelspec": {
   "display_name": "Python 3",
   "language": "python",
   "name": "python3"
  },
  "language_info": {
   "codemirror_mode": {
    "name": "ipython",
    "version": 3
   },
   "file_extension": ".py",
   "mimetype": "text/x-python",
   "name": "python",
   "nbconvert_exporter": "python",
   "pygments_lexer": "ipython3",
   "version": "3.13.2"
  }
 },
 "nbformat": 4,
 "nbformat_minor": 5
}
