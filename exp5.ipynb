{
 "cells": [
  {
   "cell_type": "markdown",
   "id": "ad515101",
   "metadata": {},
   "source": [
    "Username Validator  You're developing a login system. A username must only contain alphabets and numbers, and should not exceed 12 characters.\n",
    "Write a function that checks whether a given username is valid or not. Return True if it's valid, otherwise False.\n"
   ]
  },
  {
   "cell_type": "code",
   "execution_count": null,
   "id": "e7f07245",
   "metadata": {},
   "outputs": [],
   "source": [
    "def check_username(username):\n",
    "   name = False\n",
    "   num = False\n",
    "   if len(username) <= 12:\n",
    "    for char in username:\n",
    "        if char.isalpha():\n",
    "            name = True\n",
    "        elif char.isdigit():\n",
    "            num = True\n",
    "    return num and name \n",
    "user_name = input(\"Enter Username(within 12 Characters) : \")\n",
    "print(check_username(user_name))\n"
   ]
  },
  {
   "cell_type": "markdown",
   "id": "25d5cc51",
   "metadata": {},
   "source": [
    "Email Masking for Privacy . You need to mask part of an email address when displaying it publicly to protect user privacy.\n",
    "Write a program that takes an email like john.doe@example.com and returns a masked version like jo****@example.com"
   ]
  },
  {
   "cell_type": "code",
   "execution_count": null,
   "id": "b0f50b90",
   "metadata": {},
   "outputs": [],
   "source": [
    "def email_masking(email):\n",
    "    length = len(email)\n",
    "    return email[:2] + \"*\"*(length - 14) + email[-12:]\n",
    "_email_ = input(\"Enter Email ID : \")\n",
    "print(email_masking(_email_))"
   ]
  },
  {
   "cell_type": "markdown",
   "id": "724e492c",
   "metadata": {},
   "source": [
    "Detecting Palindromes  You are building a text analyzer app. One of the features is to detect if a word or phrase is a palindrome (ignoring spaces and punctuation).\n",
    "Write a function that checks whether a given string is a palindrome, ignoring case, spaces, and punctuation.\n"
   ]
  },
  {
   "cell_type": "code",
   "execution_count": null,
   "id": "27ae34fe",
   "metadata": {},
   "outputs": [],
   "source": [
    "def check_palindrome(s): \n",
    "    print(f\"Original String : {s}\") \n",
    "    pal = \"\".join(char.lower() for char in s if char.isalpha()) \n",
    "    return pal[::-1] == pal \n",
    "str_palindrome = input(\"Enter Palindrome in String : \") \n",
    "print(check_palindrome(str_palindrome))"
   ]
  },
  {
   "cell_type": "markdown",
   "id": "963f520e",
   "metadata": {},
   "source": [
    "Text Formatter for News Headlines - You’re building a news app that receives article titles in random casing. You need to format the titles so each word starts with a capital letter.\n",
    "Write a function that converts a given string like \"breaKing news: python is fun\" to \"Breaking News: Python Is Fun\"."
   ]
  },
  {
   "cell_type": "code",
   "execution_count": null,
   "id": "0197fc78",
   "metadata": {},
   "outputs": [],
   "source": [
    "def text_headlines(text):\n",
    "    print(f\"Original String : {text}\" )\n",
    "    return f\"Converted Title Case : {text.title()}\"\n",
    "Text = input(\"Enter Text for News Headlines : \")\n",
    "print(text_headlines(Text))"
   ]
  },
  {
   "cell_type": "markdown",
   "id": "530dd098",
   "metadata": {},
   "source": [
    "Word Frequency Counter  In a blog analysis tool, you need to find out how often each word appears in a paragraph.\n"
   ]
  },
  {
   "cell_type": "code",
   "execution_count": null,
   "id": "a6615cde",
   "metadata": {},
   "outputs": [],
   "source": [
    "def word_count(s):\n",
    "    words = s.split()  \n",
    "    count_dict = {}\n",
    "    for word in words:\n",
    "        if word in count_dict:\n",
    "            count_dict[word] += 1 \n",
    "        else:\n",
    "            count_dict[word] = 1  \n",
    "    return count_dict  \n",
    "user_input = input(\"Enter a String : \")\n",
    "print(word_count(user_input))"
   ]
  },
  {
   "cell_type": "markdown",
   "id": "8c18e215",
   "metadata": {},
   "source": [
    "Write a program that takes a block of text and prints"
   ]
  },
  {
   "cell_type": "code",
   "execution_count": null,
   "id": "1eae8f9a",
   "metadata": {},
   "outputs": [],
   "source": [
    "text_block = input(\"Enter your block of text: \")\n",
    "word_count = len(text_block.split())\n",
    "uppercase_text = text_block.upper()\n",
    "reversed_text = text_block[::-1]\n",
    "print(f\" Original Text : {text_block}\\n Word Count : {word_count}\\n Uppercase : {uppercase_text}\\n Reversed Text : {reversed_text}\\n\")\n"
   ]
  }
 ],
 "metadata": {
  "kernelspec": {
   "display_name": "Python 3",
   "language": "python",
   "name": "python3"
  },
  "language_info": {
   "codemirror_mode": {
    "name": "ipython",
    "version": 3
   },
   "file_extension": ".py",
   "mimetype": "text/x-python",
   "name": "python",
   "nbconvert_exporter": "python",
   "pygments_lexer": "ipython3",
   "version": "3.13.2"
  }
 },
 "nbformat": 4,
 "nbformat_minor": 5
}
