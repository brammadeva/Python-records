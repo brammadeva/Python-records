{
 "cells": [
  {
   "cell_type": "markdown",
   "id": "ad515101",
   "metadata": {},
   "source": [
    "Username Validator  You're developing a login system. A username must only contain alphabets and numbers, and should not exceed 12 characters.\n",
    "Write a function that checks whether a given username is valid or not. Return True if it's valid, otherwise False.\n"
   ]
  },
  {
   "cell_type": "code",
   "execution_count": null,
   "id": "e7f07245",
   "metadata": {},
   "outputs": [],
   "source": [
    "def check_username(username):\n",
    "   name = False\n",
    "   num = False\n",
    "   if len(username) <= 12:\n",
    "    for char in username:\n",
    "        if char.isalpha():\n",
    "            name = True\n",
    "        elif char.isdigit():\n",
    "            num = True\n",
    "    return num and name \n",
    "user_name = input(\"Enter Username(within 12 Characters) : \")\n",
    "print(check_username(user_name))\n"
   ]
  },
  {
   "cell_type": "markdown",
   "id": "25d5cc51",
   "metadata": {},
   "source": [
    "Email Masking for Privacy . You need to mask part of an email address when displaying it publicly to protect user privacy.\n",
    "Write a program that takes an email like john.doe@example.com and returns a masked version like jo****@example.com"
   ]
  },
  {
   "cell_type": "code",
   "execution_count": null,
   "id": "b0f50b90",
   "metadata": {},
   "outputs": [],
   "source": [
    "def email_masking(email):\n",
    "    length = len(email)\n",
    "    return email[:2] + \"*\"*(length - 14) + email[-12:]\n",
    "_email_ = input(\"Enter Email ID : \")\n",
    "print(email_masking(_email_))"
   ]
  },
  {
   "cell_type": "markdown",
   "id": "724e492c",
   "metadata": {},
   "source": [
    "Detecting Palindromes  You are building a text analyzer app. One of the features is to detect if a word or phrase is a palindrome (ignoring spaces and punctuation).\n",
    "Write a function that checks whether a given string is a palindrome, ignoring case, spaces, and punctuation.\n"
   ]
  },
  {
   "cell_type": "code",
   "execution_count": 1,
   "id": "27ae34fe",
   "metadata": {},
   "outputs": [
    {
     "ename": "KeyboardInterrupt",
     "evalue": "Interrupted by user",
     "output_type": "error",
     "traceback": [
      "\u001b[31m---------------------------------------------------------------------------\u001b[39m",
      "\u001b[31mKeyboardInterrupt\u001b[39m                         Traceback (most recent call last)",
      "\u001b[36mCell\u001b[39m\u001b[36m \u001b[39m\u001b[32mIn[1]\u001b[39m\u001b[32m, line 5\u001b[39m\n\u001b[32m      3\u001b[39m     pal = \u001b[33m\"\u001b[39m\u001b[33m\"\u001b[39m.join(char.lower() \u001b[38;5;28;01mfor\u001b[39;00m char \u001b[38;5;129;01min\u001b[39;00m s \u001b[38;5;28;01mif\u001b[39;00m char.isalpha()) \n\u001b[32m      4\u001b[39m     \u001b[38;5;28;01mreturn\u001b[39;00m pal[::-\u001b[32m1\u001b[39m] == pal \n\u001b[32m----> \u001b[39m\u001b[32m5\u001b[39m str_palindrome = \u001b[38;5;28;43minput\u001b[39;49m\u001b[43m(\u001b[49m\u001b[33;43m\"\u001b[39;49m\u001b[33;43mEnter Palindrome in String : \u001b[39;49m\u001b[33;43m\"\u001b[39;49m\u001b[43m)\u001b[49m \n\u001b[32m      6\u001b[39m \u001b[38;5;28mprint\u001b[39m(check_palindrome(str_palindrome))\n",
      "\u001b[36mFile \u001b[39m\u001b[32m~\\AppData\\Roaming\\Python\\Python313\\site-packages\\ipykernel\\kernelbase.py:1282\u001b[39m, in \u001b[36mKernel.raw_input\u001b[39m\u001b[34m(self, prompt)\u001b[39m\n\u001b[32m   1280\u001b[39m     msg = \u001b[33m\"\u001b[39m\u001b[33mraw_input was called, but this frontend does not support input requests.\u001b[39m\u001b[33m\"\u001b[39m\n\u001b[32m   1281\u001b[39m     \u001b[38;5;28;01mraise\u001b[39;00m StdinNotImplementedError(msg)\n\u001b[32m-> \u001b[39m\u001b[32m1282\u001b[39m \u001b[38;5;28;01mreturn\u001b[39;00m \u001b[38;5;28;43mself\u001b[39;49m\u001b[43m.\u001b[49m\u001b[43m_input_request\u001b[49m\u001b[43m(\u001b[49m\n\u001b[32m   1283\u001b[39m \u001b[43m    \u001b[49m\u001b[38;5;28;43mstr\u001b[39;49m\u001b[43m(\u001b[49m\u001b[43mprompt\u001b[49m\u001b[43m)\u001b[49m\u001b[43m,\u001b[49m\n\u001b[32m   1284\u001b[39m \u001b[43m    \u001b[49m\u001b[38;5;28;43mself\u001b[39;49m\u001b[43m.\u001b[49m\u001b[43m_parent_ident\u001b[49m\u001b[43m[\u001b[49m\u001b[33;43m\"\u001b[39;49m\u001b[33;43mshell\u001b[39;49m\u001b[33;43m\"\u001b[39;49m\u001b[43m]\u001b[49m\u001b[43m,\u001b[49m\n\u001b[32m   1285\u001b[39m \u001b[43m    \u001b[49m\u001b[38;5;28;43mself\u001b[39;49m\u001b[43m.\u001b[49m\u001b[43mget_parent\u001b[49m\u001b[43m(\u001b[49m\u001b[33;43m\"\u001b[39;49m\u001b[33;43mshell\u001b[39;49m\u001b[33;43m\"\u001b[39;49m\u001b[43m)\u001b[49m\u001b[43m,\u001b[49m\n\u001b[32m   1286\u001b[39m \u001b[43m    \u001b[49m\u001b[43mpassword\u001b[49m\u001b[43m=\u001b[49m\u001b[38;5;28;43;01mFalse\u001b[39;49;00m\u001b[43m,\u001b[49m\n\u001b[32m   1287\u001b[39m \u001b[43m\u001b[49m\u001b[43m)\u001b[49m\n",
      "\u001b[36mFile \u001b[39m\u001b[32m~\\AppData\\Roaming\\Python\\Python313\\site-packages\\ipykernel\\kernelbase.py:1325\u001b[39m, in \u001b[36mKernel._input_request\u001b[39m\u001b[34m(self, prompt, ident, parent, password)\u001b[39m\n\u001b[32m   1322\u001b[39m \u001b[38;5;28;01mexcept\u001b[39;00m \u001b[38;5;167;01mKeyboardInterrupt\u001b[39;00m:\n\u001b[32m   1323\u001b[39m     \u001b[38;5;66;03m# re-raise KeyboardInterrupt, to truncate traceback\u001b[39;00m\n\u001b[32m   1324\u001b[39m     msg = \u001b[33m\"\u001b[39m\u001b[33mInterrupted by user\u001b[39m\u001b[33m\"\u001b[39m\n\u001b[32m-> \u001b[39m\u001b[32m1325\u001b[39m     \u001b[38;5;28;01mraise\u001b[39;00m \u001b[38;5;167;01mKeyboardInterrupt\u001b[39;00m(msg) \u001b[38;5;28;01mfrom\u001b[39;00m\u001b[38;5;250m \u001b[39m\u001b[38;5;28;01mNone\u001b[39;00m\n\u001b[32m   1326\u001b[39m \u001b[38;5;28;01mexcept\u001b[39;00m \u001b[38;5;167;01mException\u001b[39;00m:\n\u001b[32m   1327\u001b[39m     \u001b[38;5;28mself\u001b[39m.log.warning(\u001b[33m\"\u001b[39m\u001b[33mInvalid Message:\u001b[39m\u001b[33m\"\u001b[39m, exc_info=\u001b[38;5;28;01mTrue\u001b[39;00m)\n",
      "\u001b[31mKeyboardInterrupt\u001b[39m: Interrupted by user"
     ]
    }
   ],
   "source": [
    "def check_palindrome(s): \n",
    "    print(f\"Original String : {s}\") \n",
    "    pal = \"\".join(char.lower() for char in s if char.isalpha()) \n",
    "    return pal[::-1] == pal \n",
    "str_palindrome = input(\"Enter Palindrome in String : \") \n",
    "print(check_palindrome(str_palindrome))"
   ]
  },
  {
   "cell_type": "markdown",
   "id": "963f520e",
   "metadata": {},
   "source": [
    "Text Formatter for News Headlines - You’re building a news app that receives article titles in random casing. You need to format the titles so each word starts with a capital letter.\n",
    "Write a function that converts a given string like \"breaKing news: python is fun\" to \"Breaking News: Python Is Fun\"."
   ]
  },
  {
   "cell_type": "code",
   "execution_count": null,
   "id": "0197fc78",
   "metadata": {},
   "outputs": [],
   "source": [
    "def text_headlines(text):\n",
    "    print(f\"Original String : {text}\" )\n",
    "    return f\"Converted Title Case : {text.title()}\"\n",
    "Text = input(\"Enter Text for News Headlines : \")\n",
    "print(text_headlines(Text))"
   ]
  },
  {
   "cell_type": "markdown",
   "id": "530dd098",
   "metadata": {},
   "source": [
    "Word Frequency Counter  In a blog analysis tool, you need to find out how often each word appears in a paragraph.\n"
   ]
  },
  {
   "cell_type": "code",
   "execution_count": null,
   "id": "a6615cde",
   "metadata": {},
   "outputs": [],
   "source": [
    "def word_count(s):\n",
    "    words = s.split()  \n",
    "    count_dict = {}\n",
    "    for word in words:\n",
    "        if word in count_dict:\n",
    "            count_dict[word] += 1 \n",
    "        else:\n",
    "            count_dict[word] = 1  \n",
    "    return count_dict  \n",
    "user_input = input(\"Enter a String : \")\n",
    "print(word_count(user_input))"
   ]
  },
  {
   "cell_type": "markdown",
   "id": "8c18e215",
   "metadata": {},
   "source": [
    "Write a program that takes a block of text and prints"
   ]
  },
  {
   "cell_type": "code",
   "execution_count": null,
   "id": "1eae8f9a",
   "metadata": {},
   "outputs": [],
   "source": [
    "text_block = input(\"Enter your block of text: \")\n",
    "word_count = len(text_block.split())\n",
    "uppercase_text = text_block.upper()\n",
    "reversed_text = text_block[::-1]\n",
    "print(f\" Original Text : {text_block}\\n Word Count : {word_count}\\n Uppercase : {uppercase_text}\\n Reversed Text : {reversed_text}\\n\")\n"
   ]
  }
 ],
 "metadata": {
  "kernelspec": {
   "display_name": "Python 3",
   "language": "python",
   "name": "python3"
  },
  "language_info": {
   "codemirror_mode": {
    "name": "ipython",
    "version": 3
   },
   "file_extension": ".py",
   "mimetype": "text/x-python",
   "name": "python",
   "nbconvert_exporter": "python",
   "pygments_lexer": "ipython3",
   "version": "3.13.2"
  }
 },
 "nbformat": 4,
 "nbformat_minor": 5
}
